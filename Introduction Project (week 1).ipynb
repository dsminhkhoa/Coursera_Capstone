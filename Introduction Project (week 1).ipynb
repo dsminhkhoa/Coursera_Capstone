{
 "cells": [
  {
   "cell_type": "markdown",
   "metadata": {},
   "source": [
    "# Capstone Project - Introduction Project (Week 1)\n",
    "## Introduction: Business Problem\n",
    "This project aims to select the safest borough in London based on the total crimes, explore the neighborhoods of that borough to find the 10 most common venues in each neighborhood and finally cluster the neighborhoods using k-mean clustering.\n",
    "\n",
    "This report will be targeted to people who are looking to relocate to London. In order to finalize a neighborhood to hunt for an apartment, safety is considered as a top concern when moving to a new place. If you do not feel safe in your own home, you are not going to be able to enjoy living there. The crime statistics will provide an insight into this issue.\n",
    "\n",
    "We will focus on the safest borough and explore its neighborhoods and the 10 most common venues in each neighborhood so that the best neighborhood suited to an individual's needs can be selected.\n",
    "\n",
    "## Data\n",
    "Based on definition of our problem, factors that will influence our decision are:\n",
    "\n",
    "The total number of crimes committed in each of the borough during the last year.\n",
    "The most common venues in each of the neighborhood in the safest borough selected. We decided to use regularly spaced grid of locations, centered around city center, to define our neighborhoods.\n",
    "Following data sources will be needed to extract/generate the required information:\n",
    "\n",
    "- Part 1 : Preprocessing a real world data set from Kaggle showing the London Crimes from 2008 to 2016. A dataset consisting of the crime statistics of each borough in London obtained from Kaggle\n",
    "- Part 2 : Scraping additional information of the different Boroughs in London from a Wikipedia page. More information regarding the boroughs of London is scraped using the Beautifulsoup library\n",
    "- Part 3 : Creating a new dataset of the Neighborhoods of the safest borough in London and generating their co-ordinates. Co-ordinate of neighborhood will be obtained using Google Maps API geocoding|"
   ]
  },
  {
   "cell_type": "code",
   "execution_count": null,
   "metadata": {},
   "outputs": [],
   "source": []
  }
 ],
 "metadata": {
  "kernelspec": {
   "display_name": "Python",
   "language": "python",
   "name": "conda-env-python-py"
  },
  "language_info": {
   "codemirror_mode": {
    "name": "ipython",
    "version": 3
   },
   "file_extension": ".py",
   "mimetype": "text/x-python",
   "name": "python",
   "nbconvert_exporter": "python",
   "pygments_lexer": "ipython3",
   "version": "3.6.10"
  }
 },
 "nbformat": 4,
 "nbformat_minor": 4
}
